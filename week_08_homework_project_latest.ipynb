{
 "cells": [
  {
   "cell_type": "markdown",
   "metadata": {},
   "source": [
    "### Summary of event data from FDA\n",
    "* The top most reaction reported is \"Diarrhoea\" - 25.2% \n",
    "* From event reports for \"Ovarian Cancer\" reaction, the most outcome was \"Medically Important\" involving products from \"Cosmetics\" industry. From this data, median age for Ovarian Cancer is shown as 55 years.\n",
    "* Out of the records from Jan 1,2004 To Jan 1, 2021, for \"Anaphylactic Reaction\" - life threatning cases were from 'Dietary Conventional Foods/Meal Replacements' industry\n",
    "* There is only one report with outcome as 'Death' which involved Cosmetics Industry\n"
   ]
  },
  {
   "cell_type": "code",
   "execution_count": 2,
   "metadata": {},
   "outputs": [],
   "source": [
    "import matplotlib.pyplot as plt\n",
    "import pandas as pd\n",
    "import numpy as np\n",
    "import requests\n",
    "import seaborn as sns"
   ]
  },
  {
   "cell_type": "code",
   "execution_count": 8,
   "metadata": {},
   "outputs": [],
   "source": [
    "def get_eventdata_fromAPI(eventDataJSON):\n",
    "\n",
    "    #Empty list to append the food event report details\n",
    "    report_number_list =[]\n",
    "    outcomes_list = []\n",
    "    date_created_list = []\n",
    "    date_started_list = []\n",
    "    consumer_age_list = []\n",
    "    consumer_age_unit_list = []\n",
    "    consumer_gender_list = []\n",
    "\n",
    "    event_report_reaction =[]\n",
    "    event_report_product =[]\n",
    "    event_report_outcome =[]\n",
    "\n",
    "\n",
    "    #results key from the JSON data of the request contains the information about the food event.\n",
    "    if(('results' in eventDataJSON) and (bool(eventDataJSON['results']) == True)):\n",
    "        for foodevent_record in eventDataJSON['results']:\n",
    "\n",
    "            report_number_list.append(foodevent_record['report_number'])\n",
    "            date_started_list.append(foodevent_record['date_started'])\n",
    "            date_created_list.append(foodevent_record['date_created'])\n",
    "\n",
    "            #If consumer details are available in the event report. \n",
    "            if(bool(foodevent_record['consumer']) == True):\n",
    "\n",
    "                #Some reports, doesn't have consumer age data, hence checking if 'age' key exists\n",
    "                if('age' in foodevent_record['consumer']):\n",
    "                    consumer_age_list.append(foodevent_record['consumer']['age'])\n",
    "                else:\n",
    "                    consumer_age_list.append(\"\")\n",
    "\n",
    "                #Some reports, doesn't have consumer age unit data, hence checking if 'age_unit' key exists\n",
    "                if('age_unit' in foodevent_record['consumer']):\n",
    "                    consumer_age_unit_list.append(foodevent_record['consumer']['age_unit'])\n",
    "                else:\n",
    "                    consumer_age_unit_list.append(\"\")\n",
    "\n",
    "                #Some reports, doesn't have gender data, hence checking if 'gender' key exists\n",
    "                if('gender' in foodevent_record['consumer']):\n",
    "                    consumer_gender_list.append(foodevent_record['consumer']['gender'])\n",
    "                else:\n",
    "                    consumer_gender_list.append(\"\")\n",
    "            else:\n",
    "                #If consumer details are not available append empty values\n",
    "                consumer_age_list.append(\"\")\n",
    "                consumer_age_unit_list.append(\"\")\n",
    "                consumer_gender_list.append(\"\")\n",
    "\n",
    "            #Outcomes for the food event. There can be more than 1 outcome \n",
    "            for outcome in foodevent_record['outcomes']:\n",
    "                event_report_outcome.append({'report_number':foodevent_record['report_number'],\"outcome\" : outcome})\n",
    "\n",
    "\n",
    "            #reactions for the food event. There can be more than 1 reaction\n",
    "            for reaction in foodevent_record['reactions']:\n",
    "                event_report_reaction.append({'report_number':foodevent_record['report_number'],\"reaction\" : reaction.title()})\n",
    "\n",
    "\n",
    "            #Product records for the event report. There can be more than 1 product/industry associated with it\n",
    "            for product_record in foodevent_record['products']:\n",
    "                event_report_product.append({\"report_number\":foodevent_record['report_number'],\n",
    "                                             \"role\": product_record['role'].title(),\n",
    "                                             \"name_brand\":product_record['name_brand'].title(),\n",
    "                                             \"industry_code\":product_record['industry_code'],\n",
    "                                             \"industry_name\":product_record['industry_name']})\n",
    "\n",
    "\n",
    "    #Create dictionary with column names and values for food event report \n",
    "    food_event_report_dict = {\"report_number\":report_number_list,\n",
    "                                \"date_created\":date_created_list,\n",
    "                                \"date_started\":date_started_list,\n",
    "                                \"consumer_age\":consumer_age_list,\n",
    "                                \"consumer_age_unit\":consumer_age_unit_list,\n",
    "                                \"consumer_gender\":consumer_gender_list\n",
    "                            }\n",
    "\n",
    "     \n",
    "    df_dict = {\"report_df\":pd.DataFrame(food_event_report_dict),\n",
    "               \"reaction_df\":pd.DataFrame(event_report_reaction),\n",
    "               \"outcome_df\":pd.DataFrame(event_report_outcome),\n",
    "               \"product_df\":pd.DataFrame(event_report_product)}\n",
    "    \n",
    "    return df_dict\n"
   ]
  },
  {
   "cell_type": "code",
   "execution_count": 6,
   "metadata": {},
   "outputs": [],
   "source": [
    "ov_cancer_url = \"https://api.fda.gov/food/event.json?search=reactions:'ovarian+cancer'&limit=1000\"\n",
    "ov_cancer_event_data = requests.get(ov_cancer_url).json()\n",
    "\n",
    "ov_cancer_dfDict = get_eventdata_fromAPI(ov_cancer_event_data)"
   ]
  },
  {
   "cell_type": "code",
   "execution_count": 13,
   "metadata": {},
   "outputs": [
    {
     "data": {
      "text/html": [
       "<div>\n",
       "<style scoped>\n",
       "    .dataframe tbody tr th:only-of-type {\n",
       "        vertical-align: middle;\n",
       "    }\n",
       "\n",
       "    .dataframe tbody tr th {\n",
       "        vertical-align: top;\n",
       "    }\n",
       "\n",
       "    .dataframe thead th {\n",
       "        text-align: right;\n",
       "    }\n",
       "</style>\n",
       "<table border=\"1\" class=\"dataframe\">\n",
       "  <thead>\n",
       "    <tr style=\"text-align: right;\">\n",
       "      <th></th>\n",
       "      <th>report_number</th>\n",
       "      <th>date_created</th>\n",
       "      <th>date_started</th>\n",
       "      <th>consumer_age</th>\n",
       "      <th>consumer_age_unit</th>\n",
       "      <th>consumer_gender</th>\n",
       "    </tr>\n",
       "  </thead>\n",
       "  <tbody>\n",
       "    <tr>\n",
       "      <th>0</th>\n",
       "      <td>202218</td>\n",
       "      <td>20161003</td>\n",
       "      <td>None</td>\n",
       "      <td></td>\n",
       "      <td></td>\n",
       "      <td></td>\n",
       "    </tr>\n",
       "    <tr>\n",
       "      <th>1</th>\n",
       "      <td>2018-CFS-003029</td>\n",
       "      <td>20180223</td>\n",
       "      <td>20110101</td>\n",
       "      <td></td>\n",
       "      <td></td>\n",
       "      <td></td>\n",
       "    </tr>\n",
       "    <tr>\n",
       "      <th>2</th>\n",
       "      <td>2019-CFS-008409</td>\n",
       "      <td>20190816</td>\n",
       "      <td>20100701</td>\n",
       "      <td>52</td>\n",
       "      <td>year(s)</td>\n",
       "      <td>F</td>\n",
       "    </tr>\n",
       "    <tr>\n",
       "      <th>3</th>\n",
       "      <td>204715</td>\n",
       "      <td>20161202</td>\n",
       "      <td>None</td>\n",
       "      <td></td>\n",
       "      <td></td>\n",
       "      <td></td>\n",
       "    </tr>\n",
       "    <tr>\n",
       "      <th>4</th>\n",
       "      <td>214832</td>\n",
       "      <td>20170706</td>\n",
       "      <td>20111101</td>\n",
       "      <td></td>\n",
       "      <td></td>\n",
       "      <td></td>\n",
       "    </tr>\n",
       "  </tbody>\n",
       "</table>\n",
       "</div>"
      ],
      "text/plain": [
       "     report_number date_created date_started consumer_age consumer_age_unit  \\\n",
       "0           202218     20161003         None                                  \n",
       "1  2018-CFS-003029     20180223     20110101                                  \n",
       "2  2019-CFS-008409     20190816     20100701           52           year(s)   \n",
       "3           204715     20161202         None                                  \n",
       "4           214832     20170706     20111101                                  \n",
       "\n",
       "  consumer_gender  \n",
       "0                  \n",
       "1                  \n",
       "2               F  \n",
       "3                  \n",
       "4                  "
      ]
     },
     "metadata": {},
     "output_type": "display_data"
    },
    {
     "data": {
      "text/html": [
       "<div>\n",
       "<style scoped>\n",
       "    .dataframe tbody tr th:only-of-type {\n",
       "        vertical-align: middle;\n",
       "    }\n",
       "\n",
       "    .dataframe tbody tr th {\n",
       "        vertical-align: top;\n",
       "    }\n",
       "\n",
       "    .dataframe thead th {\n",
       "        text-align: right;\n",
       "    }\n",
       "</style>\n",
       "<table border=\"1\" class=\"dataframe\">\n",
       "  <thead>\n",
       "    <tr style=\"text-align: right;\">\n",
       "      <th></th>\n",
       "      <th>report_number</th>\n",
       "      <th>outcome</th>\n",
       "    </tr>\n",
       "  </thead>\n",
       "  <tbody>\n",
       "    <tr>\n",
       "      <th>0</th>\n",
       "      <td>202218</td>\n",
       "      <td>Patient Visited Healthcare Provider</td>\n",
       "    </tr>\n",
       "    <tr>\n",
       "      <th>1</th>\n",
       "      <td>202218</td>\n",
       "      <td>Medically Important</td>\n",
       "    </tr>\n",
       "    <tr>\n",
       "      <th>2</th>\n",
       "      <td>2018-CFS-003029</td>\n",
       "      <td>Medically Important</td>\n",
       "    </tr>\n",
       "    <tr>\n",
       "      <th>3</th>\n",
       "      <td>2019-CFS-008409</td>\n",
       "      <td>Medically Important</td>\n",
       "    </tr>\n",
       "    <tr>\n",
       "      <th>4</th>\n",
       "      <td>204715</td>\n",
       "      <td>Patient Visited Healthcare Provider</td>\n",
       "    </tr>\n",
       "  </tbody>\n",
       "</table>\n",
       "</div>"
      ],
      "text/plain": [
       "     report_number                              outcome\n",
       "0           202218  Patient Visited Healthcare Provider\n",
       "1           202218                  Medically Important\n",
       "2  2018-CFS-003029                  Medically Important\n",
       "3  2019-CFS-008409                  Medically Important\n",
       "4           204715  Patient Visited Healthcare Provider"
      ]
     },
     "metadata": {},
     "output_type": "display_data"
    },
    {
     "data": {
      "text/html": [
       "<div>\n",
       "<style scoped>\n",
       "    .dataframe tbody tr th:only-of-type {\n",
       "        vertical-align: middle;\n",
       "    }\n",
       "\n",
       "    .dataframe tbody tr th {\n",
       "        vertical-align: top;\n",
       "    }\n",
       "\n",
       "    .dataframe thead th {\n",
       "        text-align: right;\n",
       "    }\n",
       "</style>\n",
       "<table border=\"1\" class=\"dataframe\">\n",
       "  <thead>\n",
       "    <tr style=\"text-align: right;\">\n",
       "      <th></th>\n",
       "      <th>report_number</th>\n",
       "      <th>role</th>\n",
       "      <th>name_brand</th>\n",
       "      <th>industry_code</th>\n",
       "      <th>industry_name</th>\n",
       "    </tr>\n",
       "  </thead>\n",
       "  <tbody>\n",
       "    <tr>\n",
       "      <th>0</th>\n",
       "      <td>202218</td>\n",
       "      <td>Suspect</td>\n",
       "      <td>Exemption 4</td>\n",
       "      <td>53</td>\n",
       "      <td>Cosmetics</td>\n",
       "    </tr>\n",
       "    <tr>\n",
       "      <th>1</th>\n",
       "      <td>2018-CFS-003029</td>\n",
       "      <td>Suspect</td>\n",
       "      <td>Exemption 4</td>\n",
       "      <td>53</td>\n",
       "      <td>Cosmetics</td>\n",
       "    </tr>\n",
       "    <tr>\n",
       "      <th>2</th>\n",
       "      <td>2019-CFS-008409</td>\n",
       "      <td>Suspect</td>\n",
       "      <td>Exemption 4</td>\n",
       "      <td>53</td>\n",
       "      <td>Cosmetics</td>\n",
       "    </tr>\n",
       "    <tr>\n",
       "      <th>3</th>\n",
       "      <td>204715</td>\n",
       "      <td>Suspect</td>\n",
       "      <td>Exemption 4</td>\n",
       "      <td>53</td>\n",
       "      <td>Cosmetics</td>\n",
       "    </tr>\n",
       "    <tr>\n",
       "      <th>4</th>\n",
       "      <td>214832</td>\n",
       "      <td>Suspect</td>\n",
       "      <td>Exemption 4</td>\n",
       "      <td>53</td>\n",
       "      <td>Cosmetics</td>\n",
       "    </tr>\n",
       "  </tbody>\n",
       "</table>\n",
       "</div>"
      ],
      "text/plain": [
       "     report_number     role   name_brand industry_code industry_name\n",
       "0           202218  Suspect  Exemption 4            53     Cosmetics\n",
       "1  2018-CFS-003029  Suspect  Exemption 4            53     Cosmetics\n",
       "2  2019-CFS-008409  Suspect  Exemption 4            53     Cosmetics\n",
       "3           204715  Suspect  Exemption 4            53     Cosmetics\n",
       "4           214832  Suspect  Exemption 4            53     Cosmetics"
      ]
     },
     "metadata": {},
     "output_type": "display_data"
    }
   ],
   "source": [
    "#Display first 5 records of dataframes\n",
    "display(ov_cancer_dfDict[\"report_df\"].head())\n",
    "display(ov_cancer_dfDict[\"outcome_df\"].head())\n",
    "display(ov_cancer_dfDict[\"product_df\"].head())\n"
   ]
  },
  {
   "cell_type": "code",
   "execution_count": 14,
   "metadata": {},
   "outputs": [],
   "source": [
    "food_event_report_df = ov_cancer_dfDict[\"report_df\"]\n",
    "\n",
    "#Convert the string date_created and date_started to datetime format\n",
    "food_event_report_df[\"date_created\"] = pd.to_datetime(food_event_report_df[\"date_created\"])\n",
    "food_event_report_df[\"date_started\"] = pd.to_datetime(food_event_report_df[\"date_started\"])\n",
    "\n",
    "#Get only the year part of created  date\n",
    "food_event_report_df['year_created'] = food_event_report_df['date_created'].dt.year\n",
    "\n",
    "#Query dataframe to get reports only for date range\n",
    "food_event_report_dfYear = food_event_report_df.query(\"year_created >= 2000\")\n",
    "food_event_report_dfYear[\"consumer_age\"]= pd.to_numeric(food_event_report_dfYear[\"consumer_age\"])"
   ]
  },
  {
   "cell_type": "code",
   "execution_count": 83,
   "metadata": {},
   "outputs": [],
   "source": [
    "#Get the dataframe ready for plot - \"Display of Events by Outcomes for Ovarian Cancer Reaction\"\n",
    "#merge with outcomes df with merged df from above step\n",
    "inner_merge_reportno_df = pd.merge(food_event_report_dfYear,ov_cancer_dfDict[\"outcome_df\"], on=\"report_number\",how='left')\n"
   ]
  },
  {
   "cell_type": "code",
   "execution_count": 84,
   "metadata": {},
   "outputs": [
    {
     "data": {
      "image/png": "[encoded data removed]",
      "text/plain": [
       "<Figure size 1080x432 with 1 Axes>"
      ]
     },
     "metadata": {
      "needs_background": "light"
     },
     "output_type": "display_data"
    }
   ],
   "source": [
    "#plot - Display of Events by Outcomes for Ovarian Cancer Reaction\n",
    "fig,ax = plt.subplots()\n",
    "fig.set_size_inches([15,6])\n",
    "ax = sns.countplot(x =inner_merge_reportno_df.year_created,data = inner_merge_reportno_df,\n",
    "                   ax=ax,hue=inner_merge_reportno_df.outcome)\n",
    "ax.set_title(\"Display of Events by Outcomes for Ovarian Cancer Reaction\")\n",
    "ax.set_ylabel(\"Number of events\")\n",
    "ax.set_xlabel(\"Year\")\n",
    "ax.legend(loc='upper left')\n",
    "ax.grid(True)"
   ]
  },
  {
   "cell_type": "code",
   "execution_count": 85,
   "metadata": {},
   "outputs": [],
   "source": [
    "#Ovarian cancer by age plot. What products caused this reaction?\n",
    "# industry_name entries are blank in some reports. Replace it with text \"Data unavailable\"\n",
    "ov_cancer_dfDict[\"product_df\"].loc[ov_cancer_dfDict[\"product_df\"].industry_name == \"\",'industry_name'] = \"Data Unavailable\"\n",
    "\n",
    "#merge with outcomes df with merged df from above step\n",
    "merged_reportno_df = pd.merge(food_event_report_dfYear,ov_cancer_dfDict[\"product_df\"], on=\"report_number\",how='left')\n",
    "\n",
    "merged_reportno_df = merged_reportno_df[(merged_reportno_df[\"consumer_age_unit\"]==\"year(s)\")]\n"
   ]
  },
  {
   "cell_type": "code",
   "execution_count": 86,
   "metadata": {},
   "outputs": [
    {
     "data": {
      "image/png": "[encoded data removed]",
      "text/plain": [
       "<Figure size 864x432 with 1 Axes>"
      ]
     },
     "metadata": {
      "needs_background": "light"
     },
     "output_type": "display_data"
    }
   ],
   "source": [
    "fig,ax = plt.subplots()\n",
    "fig.set_size_inches([12,6])\n",
    "ax= sns.histplot(x='consumer_age',data=merged_reportno_df,\n",
    "                 hue='industry_name',multiple=\"dodge\",ax=ax)"
   ]
  },
  {
   "cell_type": "code",
   "execution_count": 87,
   "metadata": {},
   "outputs": [
    {
     "name": "stdout",
     "output_type": "stream",
     "text": [
      "Mean age for Ovarian Cancer: 55.788690476190474\n",
      "Median age for Ovarian Cancer: 55.0\n"
     ]
    }
   ],
   "source": [
    "print(\"Mean age for Ovarian Cancer:\",merged_reportno_df[\"consumer_age\"].mean())\n",
    "print(\"Median age for Ovarian Cancer:\",merged_reportno_df[\"consumer_age\"].median())\n"
   ]
  },
  {
   "cell_type": "code",
   "execution_count": 9,
   "metadata": {},
   "outputs": [],
   "source": [
    "def get_eventCountData_fromAPI(eventCountDataJSON):\n",
    "    reaction_count_list = []\n",
    "    #results key from the JSON data of the request contains the information about the food event.\n",
    "    if(('results' in reaction_count_data) and (bool(reaction_count_data['results']) == True)):\n",
    "        for cnt_record in reaction_count_data['results']:\n",
    "            reaction_count_list.append({\"reaction\": cnt_record[\"term\"].title(),\"count\":cnt_record[\"count\"]})\n",
    "\n",
    "    reaction_count_df = pd.DataFrame(reaction_count_list)\n",
    "    \n",
    "    return reaction_count_df\n"
   ]
  },
  {
   "cell_type": "code",
   "execution_count": 10,
   "metadata": {},
   "outputs": [],
   "source": [
    "# Get the data for reactions count\n",
    "reaction_count_url = \"https://api.fda.gov/food/event.json?count=reactions.exact\"\n",
    "reaction_count_data = requests.get(reaction_count_url).json()\n",
    "\n",
    "reaction_count_df = get_eventCountData_fromAPI(reaction_count_data)\n"
   ]
  },
  {
   "cell_type": "code",
   "execution_count": 11,
   "metadata": {},
   "outputs": [
    {
     "data": {
      "text/html": [
       "<div>\n",
       "<style scoped>\n",
       "    .dataframe tbody tr th:only-of-type {\n",
       "        vertical-align: middle;\n",
       "    }\n",
       "\n",
       "    .dataframe tbody tr th {\n",
       "        vertical-align: top;\n",
       "    }\n",
       "\n",
       "    .dataframe thead th {\n",
       "        text-align: right;\n",
       "    }\n",
       "</style>\n",
       "<table border=\"1\" class=\"dataframe\">\n",
       "  <thead>\n",
       "    <tr style=\"text-align: right;\">\n",
       "      <th></th>\n",
       "      <th>reaction</th>\n",
       "      <th>count</th>\n",
       "    </tr>\n",
       "  </thead>\n",
       "  <tbody>\n",
       "    <tr>\n",
       "      <th>0</th>\n",
       "      <td>Diarrhoea</td>\n",
       "      <td>13933</td>\n",
       "    </tr>\n",
       "    <tr>\n",
       "      <th>1</th>\n",
       "      <td>Vomiting</td>\n",
       "      <td>11830</td>\n",
       "    </tr>\n",
       "    <tr>\n",
       "      <th>2</th>\n",
       "      <td>Ovarian Cancer</td>\n",
       "      <td>11719</td>\n",
       "    </tr>\n",
       "    <tr>\n",
       "      <th>3</th>\n",
       "      <td>Nausea</td>\n",
       "      <td>10012</td>\n",
       "    </tr>\n",
       "    <tr>\n",
       "      <th>4</th>\n",
       "      <td>Abdominal Pain</td>\n",
       "      <td>7845</td>\n",
       "    </tr>\n",
       "  </tbody>\n",
       "</table>\n",
       "</div>"
      ],
      "text/plain": [
       "         reaction  count\n",
       "0       Diarrhoea  13933\n",
       "1        Vomiting  11830\n",
       "2  Ovarian Cancer  11719\n",
       "3          Nausea  10012\n",
       "4  Abdominal Pain   7845"
      ]
     },
     "metadata": {},
     "output_type": "display_data"
    }
   ],
   "source": [
    "display(reaction_count_df.head())"
   ]
  },
  {
   "cell_type": "code",
   "execution_count": 12,
   "metadata": {},
   "outputs": [
    {
     "data": {
      "image/png": "[encoded data removed]",
      "text/plain": [
       "<Figure size 576x576 with 1 Axes>"
      ]
     },
     "metadata": {},
     "output_type": "display_data"
    }
   ],
   "source": [
    "#plot pie chart to display top 5 reactions\n",
    "fig,ax = plt.subplots()\n",
    "fig.set_size_inches([8,8])\n",
    "\n",
    "reaction_count_df.head().plot(kind='pie',y=\"count\",ax=ax,\n",
    "                        startangle=90,shadow=False,labels=reaction_count_df.reaction,\n",
    "                        autopct='%1.1f%%',legend=False,fontsize=10)\n",
    "\n",
    "\n",
    "ax.set_title(\"Top 5 reactions as % from reported food events\",fontsize=10)\n",
    "plt.show()\n"
   ]
  },
  {
   "cell_type": "code",
   "execution_count": 24,
   "metadata": {},
   "outputs": [],
   "source": [
    "#Get another 1000 records for a date range as below\n",
    "#Get FDA food event data between Jan 01, 2004 and Jan 1, 2021. \n",
    "daterange_food_url = \"https://api.fda.gov/food/event.json?search=date_started:[20040101+TO+20210101]&limit=1000\"\n",
    "daterange_food_event_data = requests.get(daterange_food_url).json()\n",
    "\n",
    "daterange_dfDict = get_eventdata_fromAPI(daterange_food_event_data)\n"
   ]
  },
  {
   "cell_type": "code",
   "execution_count": 80,
   "metadata": {
    "scrolled": true
   },
   "outputs": [
    {
     "data": {
      "text/html": [
       "<div>\n",
       "<style scoped>\n",
       "    .dataframe tbody tr th:only-of-type {\n",
       "        vertical-align: middle;\n",
       "    }\n",
       "\n",
       "    .dataframe tbody tr th {\n",
       "        vertical-align: top;\n",
       "    }\n",
       "\n",
       "    .dataframe thead th {\n",
       "        text-align: right;\n",
       "    }\n",
       "</style>\n",
       "<table border=\"1\" class=\"dataframe\">\n",
       "  <thead>\n",
       "    <tr style=\"text-align: right;\">\n",
       "      <th></th>\n",
       "      <th>report_number</th>\n",
       "      <th>date_created</th>\n",
       "      <th>date_started</th>\n",
       "      <th>consumer_age</th>\n",
       "      <th>consumer_age_unit</th>\n",
       "      <th>consumer_gender</th>\n",
       "      <th>reaction</th>\n",
       "      <th>outcome</th>\n",
       "      <th>role</th>\n",
       "      <th>name_brand</th>\n",
       "      <th>industry_code</th>\n",
       "      <th>industry_name</th>\n",
       "    </tr>\n",
       "  </thead>\n",
       "  <tbody>\n",
       "    <tr>\n",
       "      <th>0</th>\n",
       "      <td>197004</td>\n",
       "      <td>20160607</td>\n",
       "      <td>20160314</td>\n",
       "      <td>23</td>\n",
       "      <td>year(s)</td>\n",
       "      <td>F</td>\n",
       "      <td>Anaphylactic Reaction</td>\n",
       "      <td>Life Threatening</td>\n",
       "      <td>Concomitant</td>\n",
       "      <td>Formula 1 Healthy Meal - French Vanilla Flavor</td>\n",
       "      <td>41</td>\n",
       "      <td>Dietary Conventional Foods/Meal Replacements</td>\n",
       "    </tr>\n",
       "    <tr>\n",
       "      <th>1</th>\n",
       "      <td>197004</td>\n",
       "      <td>20160607</td>\n",
       "      <td>20160314</td>\n",
       "      <td>23</td>\n",
       "      <td>year(s)</td>\n",
       "      <td>F</td>\n",
       "      <td>Anaphylactic Reaction</td>\n",
       "      <td>Life Threatening</td>\n",
       "      <td>Suspect</td>\n",
       "      <td>Prolessa Duo</td>\n",
       "      <td>54</td>\n",
       "      <td>Vit/Min/Prot/Unconv Diet(Human/Animal)</td>\n",
       "    </tr>\n",
       "    <tr>\n",
       "      <th>2</th>\n",
       "      <td>2019-CFS-008261</td>\n",
       "      <td>20190813</td>\n",
       "      <td>20190726</td>\n",
       "      <td>43</td>\n",
       "      <td>year(s)</td>\n",
       "      <td>F</td>\n",
       "      <td>Anaphylactic Reaction</td>\n",
       "      <td>Life Threatening</td>\n",
       "      <td>Suspect</td>\n",
       "      <td>Isagenix Cleanse For Life - Peach Mango - Powder</td>\n",
       "      <td>54</td>\n",
       "      <td>Vit/Min/Prot/Unconv Diet(Human/Animal)</td>\n",
       "    </tr>\n",
       "    <tr>\n",
       "      <th>3</th>\n",
       "      <td>2019-CFS-008261</td>\n",
       "      <td>20190813</td>\n",
       "      <td>20190726</td>\n",
       "      <td>43</td>\n",
       "      <td>year(s)</td>\n",
       "      <td>F</td>\n",
       "      <td>Anaphylactic Reaction</td>\n",
       "      <td>Patient Visited ER</td>\n",
       "      <td>Suspect</td>\n",
       "      <td>Isagenix Cleanse For Life - Peach Mango - Powder</td>\n",
       "      <td>54</td>\n",
       "      <td>Vit/Min/Prot/Unconv Diet(Human/Animal)</td>\n",
       "    </tr>\n",
       "    <tr>\n",
       "      <th>4</th>\n",
       "      <td>188433</td>\n",
       "      <td>20150804</td>\n",
       "      <td>20150730</td>\n",
       "      <td>12</td>\n",
       "      <td>year(s)</td>\n",
       "      <td>M</td>\n",
       "      <td>Anaphylactic Reaction</td>\n",
       "      <td>Life Threatening</td>\n",
       "      <td>Suspect</td>\n",
       "      <td>Aldi Millville Chewy S'Mores Granola Bars</td>\n",
       "      <td>5</td>\n",
       "      <td>Cereal Prep/Breakfast Food</td>\n",
       "    </tr>\n",
       "  </tbody>\n",
       "</table>\n",
       "</div>"
      ],
      "text/plain": [
       "     report_number date_created date_started consumer_age consumer_age_unit  \\\n",
       "0           197004     20160607     20160314           23           year(s)   \n",
       "1           197004     20160607     20160314           23           year(s)   \n",
       "2  2019-CFS-008261     20190813     20190726           43           year(s)   \n",
       "3  2019-CFS-008261     20190813     20190726           43           year(s)   \n",
       "4           188433     20150804     20150730           12           year(s)   \n",
       "\n",
       "  consumer_gender               reaction             outcome         role  \\\n",
       "0               F  Anaphylactic Reaction    Life Threatening  Concomitant   \n",
       "1               F  Anaphylactic Reaction    Life Threatening      Suspect   \n",
       "2               F  Anaphylactic Reaction    Life Threatening      Suspect   \n",
       "3               F  Anaphylactic Reaction  Patient Visited ER      Suspect   \n",
       "4               M  Anaphylactic Reaction    Life Threatening      Suspect   \n",
       "\n",
       "                                         name_brand industry_code  \\\n",
       "0    Formula 1 Healthy Meal - French Vanilla Flavor            41   \n",
       "1                                      Prolessa Duo            54   \n",
       "2  Isagenix Cleanse For Life - Peach Mango - Powder            54   \n",
       "3  Isagenix Cleanse For Life - Peach Mango - Powder            54   \n",
       "4         Aldi Millville Chewy S'Mores Granola Bars             5   \n",
       "\n",
       "                                  industry_name  \n",
       "0  Dietary Conventional Foods/Meal Replacements  \n",
       "1        Vit/Min/Prot/Unconv Diet(Human/Animal)  \n",
       "2        Vit/Min/Prot/Unconv Diet(Human/Animal)  \n",
       "3        Vit/Min/Prot/Unconv Diet(Human/Animal)  \n",
       "4                    Cereal Prep/Breakfast Food  "
      ]
     },
     "execution_count": 80,
     "metadata": {},
     "output_type": "execute_result"
    }
   ],
   "source": [
    "merged_df = pd.merge(daterange_dfDict[\"report_df\"],daterange_dfDict[\"reaction_df\"].query(\"reaction == 'Anaphylactic Reaction'\"),on=\"report_number\")\n",
    "merged_df = pd.merge(merged_df,daterange_dfDict[\"outcome_df\"],on=\"report_number\",how='left')\n",
    "merged_df = pd.merge(merged_df,daterange_dfDict[\"product_df\"],on=\"report_number\",how='left')\n",
    "merged_df.head()"
   ]
  },
  {
   "cell_type": "code",
   "execution_count": 81,
   "metadata": {},
   "outputs": [
    {
     "data": {
      "image/png": "[encoded data removed]",
      "text/plain": [
       "<Figure size 864x432 with 1 Axes>"
      ]
     },
     "metadata": {
      "needs_background": "light"
     },
     "output_type": "display_data"
    }
   ],
   "source": [
    "# Plot for Anaphylactic Reaction events for food event data between Jan 01, 2004 and Jan 1, 2021\n",
    "fig,ax = plt.subplots()\n",
    "fig.set_size_inches([12,6])\n",
    "ax= sns.histplot(x='outcome',data=merged_df,kde=True,\n",
    "                 hue='role',y='industry_name',ax=ax)"
   ]
  },
  {
   "cell_type": "code",
   "execution_count": 63,
   "metadata": {},
   "outputs": [],
   "source": [
    "\n",
    "death_outcome_url = \"https://api.fda.gov/food/event.json?search=outcomes:'death'\"\n",
    "death_outcome_data = requests.get(death_outcome_url).json()\n",
    "\n",
    "death_outcome_dfDict = get_eventdata_fromAPI(death_outcome_data)\n"
   ]
  },
  {
   "cell_type": "code",
   "execution_count": 82,
   "metadata": {},
   "outputs": [
    {
     "data": {
      "text/html": [
       "<div>\n",
       "<style scoped>\n",
       "    .dataframe tbody tr th:only-of-type {\n",
       "        vertical-align: middle;\n",
       "    }\n",
       "\n",
       "    .dataframe tbody tr th {\n",
       "        vertical-align: top;\n",
       "    }\n",
       "\n",
       "    .dataframe thead th {\n",
       "        text-align: right;\n",
       "    }\n",
       "</style>\n",
       "<table border=\"1\" class=\"dataframe\">\n",
       "  <thead>\n",
       "    <tr style=\"text-align: right;\">\n",
       "      <th></th>\n",
       "      <th>report_number</th>\n",
       "      <th>date_created</th>\n",
       "      <th>date_started</th>\n",
       "      <th>consumer_age</th>\n",
       "      <th>consumer_age_unit</th>\n",
       "      <th>consumer_gender</th>\n",
       "      <th>role</th>\n",
       "      <th>name_brand</th>\n",
       "      <th>industry_code</th>\n",
       "      <th>industry_name</th>\n",
       "    </tr>\n",
       "  </thead>\n",
       "  <tbody>\n",
       "    <tr>\n",
       "      <th>0</th>\n",
       "      <td>2018-CFS-015017</td>\n",
       "      <td>20181226</td>\n",
       "      <td>20140310</td>\n",
       "      <td>81</td>\n",
       "      <td>year(s)</td>\n",
       "      <td>F</td>\n",
       "      <td>Suspect</td>\n",
       "      <td>Exemption 4</td>\n",
       "      <td>53</td>\n",
       "      <td>Cosmetics</td>\n",
       "    </tr>\n",
       "  </tbody>\n",
       "</table>\n",
       "</div>"
      ],
      "text/plain": [
       "     report_number date_created date_started consumer_age consumer_age_unit  \\\n",
       "0  2018-CFS-015017     20181226     20140310           81           year(s)   \n",
       "\n",
       "  consumer_gender     role   name_brand industry_code industry_name  \n",
       "0               F  Suspect  Exemption 4            53     Cosmetics  "
      ]
     },
     "metadata": {},
     "output_type": "display_data"
    },
    {
     "data": {
      "text/html": [
       "<div>\n",
       "<style scoped>\n",
       "    .dataframe tbody tr th:only-of-type {\n",
       "        vertical-align: middle;\n",
       "    }\n",
       "\n",
       "    .dataframe tbody tr th {\n",
       "        vertical-align: top;\n",
       "    }\n",
       "\n",
       "    .dataframe thead th {\n",
       "        text-align: right;\n",
       "    }\n",
       "</style>\n",
       "<table border=\"1\" class=\"dataframe\">\n",
       "  <thead>\n",
       "    <tr style=\"text-align: right;\">\n",
       "      <th></th>\n",
       "      <th>report_number</th>\n",
       "      <th>reaction</th>\n",
       "    </tr>\n",
       "  </thead>\n",
       "  <tbody>\n",
       "    <tr>\n",
       "      <th>0</th>\n",
       "      <td>2018-CFS-015017</td>\n",
       "      <td>Injury</td>\n",
       "    </tr>\n",
       "    <tr>\n",
       "      <th>1</th>\n",
       "      <td>2018-CFS-015017</td>\n",
       "      <td>Death</td>\n",
       "    </tr>\n",
       "  </tbody>\n",
       "</table>\n",
       "</div>"
      ],
      "text/plain": [
       "     report_number reaction\n",
       "0  2018-CFS-015017   Injury\n",
       "1  2018-CFS-015017    Death"
      ]
     },
     "metadata": {},
     "output_type": "display_data"
    }
   ],
   "source": [
    "death_merged_df = pd.merge(death_outcome_dfDict[\"report_df\"],death_outcome_dfDict[\"product_df\"],on=\"report_number\",how='left')\n",
    "display(death_merged_df.head())\n",
    "\n",
    "#What was the reaction for that death event report?\n",
    "display(death_outcome_dfDict[\"reaction_df\"])"
   ]
  },
  {
   "cell_type": "code",
   "execution_count": null,
   "metadata": {},
   "outputs": [],
   "source": []
  }
 ],
 "metadata": {
  "kernelspec": {
   "display_name": "Python 3",
   "language": "python",
   "name": "python3"
  },
  "language_info": {
   "codemirror_mode": {
    "name": "ipython",
    "version": 3
   },
   "file_extension": ".py",
   "mimetype": "text/x-python",
   "name": "python",
   "nbconvert_exporter": "python",
   "pygments_lexer": "ipython3",
   "version": "3.8.5"
  }
 },
 "nbformat": 4,
 "nbformat_minor": 4
}
