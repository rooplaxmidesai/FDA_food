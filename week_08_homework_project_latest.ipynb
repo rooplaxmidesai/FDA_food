{
 "cells": [
  {
   "cell_type": "markdown",
   "metadata": {},
   "source": [
    "# Summary of events from FDA\n",
    "#### Reactions Analysis:\n",
    "* Most Reported - Diarrhoea (25.2 %)\n",
    "* Anaphylactic reactions- greatest outcome \"Patients Visited E.R.\" (369)\n",
    "* Ovarian Cancer - median age 55 years, greatest outcome: \"Medically Important\" from the \"Cosmetics\" industry\n",
    "\n",
    "#### Jan 1,2004 - Jan 1, 2021 events Analysis(API limit is 1000 events):\n",
    "* Top industry-reaction count -    \"Vit/Min/Prot/Unconv Diet(Human/Animal) -Dyspnoea\"\twith 148 events reported\n",
    "* Median age - 48 years\n",
    "\n",
    "#### Outcome Analysis:\n",
    "* There is only one report with outcome as 'Death' from \"Cosmetics\" Industry\n",
    "\n"
   ]
  },
  {
   "cell_type": "code",
   "execution_count": 1,
   "metadata": {},
   "outputs": [],
   "source": [
    "import matplotlib.pyplot as plt\n",
    "import pandas as pd\n",
    "import numpy as np\n",
    "import requests\n",
    "import seaborn as sns"
   ]
  },
  {
   "cell_type": "code",
   "execution_count": 2,
   "metadata": {},
   "outputs": [],
   "source": [
    "def get_eventdata_fromAPI(eventDataJSON):\n",
    "\n",
    "    #Empty list to append the food event report details\n",
    "    report_number_list =[]\n",
    "    outcomes_list = []\n",
    "    date_created_list = []\n",
    "    date_started_list = []\n",
    "    consumer_age_list = []\n",
    "    consumer_age_unit_list = []\n",
    "    consumer_gender_list = []\n",
    "\n",
    "    event_report_reaction =[]\n",
    "    event_report_product =[]\n",
    "    event_report_outcome =[]\n",
    "\n",
    "\n",
    "    #results key from the JSON data of the request contains the information about the food event.\n",
    "    if(('results' in eventDataJSON) and (bool(eventDataJSON['results']) == True)):\n",
    "        for foodevent_record in eventDataJSON['results']:\n",
    "\n",
    "            report_number_list.append(foodevent_record['report_number'])\n",
    "            date_started_list.append(foodevent_record['date_started'])\n",
    "            date_created_list.append(foodevent_record['date_created'])\n",
    "\n",
    "            #If consumer details are available in the event report. \n",
    "            if(bool(foodevent_record['consumer']) == True):\n",
    "\n",
    "                #Some reports, doesn't have consumer age data, hence checking if 'age' key exists\n",
    "                if('age' in foodevent_record['consumer']):\n",
    "                    consumer_age_list.append(foodevent_record['consumer']['age'])\n",
    "                else:\n",
    "                    consumer_age_list.append(\"\")\n",
    "\n",
    "                #Some reports, doesn't have consumer age unit data, hence checking if 'age_unit' key exists\n",
    "                if('age_unit' in foodevent_record['consumer']):\n",
    "                    consumer_age_unit_list.append(foodevent_record['consumer']['age_unit'])\n",
    "                else:\n",
    "                    consumer_age_unit_list.append(\"\")\n",
    "\n",
    "                #Some reports, doesn't have gender data, hence checking if 'gender' key exists\n",
    "                if('gender' in foodevent_record['consumer']):\n",
    "                    consumer_gender_list.append(foodevent_record['consumer']['gender'])\n",
    "                else:\n",
    "                    consumer_gender_list.append(\"\")\n",
    "            else:\n",
    "                #If consumer details are not available append empty values\n",
    "                consumer_age_list.append(\"\")\n",
    "                consumer_age_unit_list.append(\"\")\n",
    "                consumer_gender_list.append(\"\")\n",
    "\n",
    "            #Outcomes for the food event. There can be more than 1 outcome \n",
    "            for outcome in foodevent_record['outcomes']:\n",
    "                event_report_outcome.append({'report_number':foodevent_record['report_number'],\"outcome\" : outcome})\n",
    "\n",
    "\n",
    "            #reactions for the food event. There can be more than 1 reaction\n",
    "            for reaction in foodevent_record['reactions']:\n",
    "                event_report_reaction.append({'report_number':foodevent_record['report_number'],\"reaction\" : reaction.title()})\n",
    "\n",
    "\n",
    "            #Product records for the event report. There can be more than 1 product/industry associated with it\n",
    "            for product_record in foodevent_record['products']:\n",
    "                event_report_product.append({\"report_number\":foodevent_record['report_number'],\n",
    "                                             \"role\": product_record['role'].title(),\n",
    "                                             \"name_brand\":product_record['name_brand'].title(),\n",
    "                                             \"industry_code\":product_record['industry_code'],\n",
    "                                             \"industry_name\":product_record['industry_name']})\n",
    "\n",
    "\n",
    "    #Create dictionary with column names and values for food event report \n",
    "    food_event_report_dict = {\"report_number\":report_number_list,\n",
    "                                \"date_created\":date_created_list,\n",
    "                                \"date_started\":date_started_list,\n",
    "                                \"consumer_age\":consumer_age_list,\n",
    "                                \"consumer_age_unit\":consumer_age_unit_list,\n",
    "                                \"consumer_gender\":consumer_gender_list\n",
    "                            }\n",
    "\n",
    "     \n",
    "    df_dict = {\"report_df\":pd.DataFrame(food_event_report_dict),\n",
    "               \"reaction_df\":pd.DataFrame(event_report_reaction),\n",
    "               \"outcome_df\":pd.DataFrame(event_report_outcome),\n",
    "               \"product_df\":pd.DataFrame(event_report_product)}\n",
    "    \n",
    "    return df_dict\n"
   ]
  },
  {
   "cell_type": "markdown",
   "metadata": {},
   "source": [
    "## Ovarian Cancer events analysis"
   ]
  },
  {
   "cell_type": "code",
   "execution_count": 229,
   "metadata": {},
   "outputs": [],
   "source": [
    "ov_cancer_url = \"https://api.fda.gov/food/event.json?search=reactions:'ovarian+cancer'&limit=1000\"\n",
    "ov_cancer_event_data = requests.get(ov_cancer_url).json()\n",
    "\n",
    "ov_cancer_dfDict = get_eventdata_fromAPI(ov_cancer_event_data)"
   ]
  },
  {
   "cell_type": "code",
   "execution_count": 230,
   "metadata": {},
   "outputs": [
    {
     "data": {
      "text/html": [
       "<div>\n",
       "<style scoped>\n",
       "    .dataframe tbody tr th:only-of-type {\n",
       "        vertical-align: middle;\n",
       "    }\n",
       "\n",
       "    .dataframe tbody tr th {\n",
       "        vertical-align: top;\n",
       "    }\n",
       "\n",
       "    .dataframe thead th {\n",
       "        text-align: right;\n",
       "    }\n",
       "</style>\n",
       "<table border=\"1\" class=\"dataframe\">\n",
       "  <thead>\n",
       "    <tr style=\"text-align: right;\">\n",
       "      <th></th>\n",
       "      <th>report_number</th>\n",
       "      <th>date_created</th>\n",
       "      <th>date_started</th>\n",
       "      <th>consumer_age</th>\n",
       "      <th>consumer_age_unit</th>\n",
       "      <th>consumer_gender</th>\n",
       "    </tr>\n",
       "  </thead>\n",
       "  <tbody>\n",
       "    <tr>\n",
       "      <th>0</th>\n",
       "      <td>202218</td>\n",
       "      <td>20161003</td>\n",
       "      <td>None</td>\n",
       "      <td></td>\n",
       "      <td></td>\n",
       "      <td></td>\n",
       "    </tr>\n",
       "    <tr>\n",
       "      <th>1</th>\n",
       "      <td>2018-CFS-003029</td>\n",
       "      <td>20180223</td>\n",
       "      <td>20110101</td>\n",
       "      <td></td>\n",
       "      <td></td>\n",
       "      <td></td>\n",
       "    </tr>\n",
       "    <tr>\n",
       "      <th>2</th>\n",
       "      <td>2019-CFS-008409</td>\n",
       "      <td>20190816</td>\n",
       "      <td>20100701</td>\n",
       "      <td>52</td>\n",
       "      <td>year(s)</td>\n",
       "      <td>F</td>\n",
       "    </tr>\n",
       "    <tr>\n",
       "      <th>3</th>\n",
       "      <td>204715</td>\n",
       "      <td>20161202</td>\n",
       "      <td>None</td>\n",
       "      <td></td>\n",
       "      <td></td>\n",
       "      <td></td>\n",
       "    </tr>\n",
       "    <tr>\n",
       "      <th>4</th>\n",
       "      <td>214832</td>\n",
       "      <td>20170706</td>\n",
       "      <td>20111101</td>\n",
       "      <td></td>\n",
       "      <td></td>\n",
       "      <td></td>\n",
       "    </tr>\n",
       "  </tbody>\n",
       "</table>\n",
       "</div>"
      ],
      "text/plain": [
       "     report_number date_created date_started consumer_age consumer_age_unit  \\\n",
       "0           202218     20161003         None                                  \n",
       "1  2018-CFS-003029     20180223     20110101                                  \n",
       "2  2019-CFS-008409     20190816     20100701           52           year(s)   \n",
       "3           204715     20161202         None                                  \n",
       "4           214832     20170706     20111101                                  \n",
       "\n",
       "  consumer_gender  \n",
       "0                  \n",
       "1                  \n",
       "2               F  \n",
       "3                  \n",
       "4                  "
      ]
     },
     "metadata": {},
     "output_type": "display_data"
    },
    {
     "data": {
      "text/html": [
       "<div>\n",
       "<style scoped>\n",
       "    .dataframe tbody tr th:only-of-type {\n",
       "        vertical-align: middle;\n",
       "    }\n",
       "\n",
       "    .dataframe tbody tr th {\n",
       "        vertical-align: top;\n",
       "    }\n",
       "\n",
       "    .dataframe thead th {\n",
       "        text-align: right;\n",
       "    }\n",
       "</style>\n",
       "<table border=\"1\" class=\"dataframe\">\n",
       "  <thead>\n",
       "    <tr style=\"text-align: right;\">\n",
       "      <th></th>\n",
       "      <th>report_number</th>\n",
       "      <th>outcome</th>\n",
       "    </tr>\n",
       "  </thead>\n",
       "  <tbody>\n",
       "    <tr>\n",
       "      <th>0</th>\n",
       "      <td>202218</td>\n",
       "      <td>Patient Visited Healthcare Provider</td>\n",
       "    </tr>\n",
       "    <tr>\n",
       "      <th>1</th>\n",
       "      <td>202218</td>\n",
       "      <td>Medically Important</td>\n",
       "    </tr>\n",
       "    <tr>\n",
       "      <th>2</th>\n",
       "      <td>2018-CFS-003029</td>\n",
       "      <td>Medically Important</td>\n",
       "    </tr>\n",
       "    <tr>\n",
       "      <th>3</th>\n",
       "      <td>2019-CFS-008409</td>\n",
       "      <td>Medically Important</td>\n",
       "    </tr>\n",
       "    <tr>\n",
       "      <th>4</th>\n",
       "      <td>204715</td>\n",
       "      <td>Patient Visited Healthcare Provider</td>\n",
       "    </tr>\n",
       "  </tbody>\n",
       "</table>\n",
       "</div>"
      ],
      "text/plain": [
       "     report_number                              outcome\n",
       "0           202218  Patient Visited Healthcare Provider\n",
       "1           202218                  Medically Important\n",
       "2  2018-CFS-003029                  Medically Important\n",
       "3  2019-CFS-008409                  Medically Important\n",
       "4           204715  Patient Visited Healthcare Provider"
      ]
     },
     "metadata": {},
     "output_type": "display_data"
    },
    {
     "data": {
      "text/html": [
       "<div>\n",
       "<style scoped>\n",
       "    .dataframe tbody tr th:only-of-type {\n",
       "        vertical-align: middle;\n",
       "    }\n",
       "\n",
       "    .dataframe tbody tr th {\n",
       "        vertical-align: top;\n",
       "    }\n",
       "\n",
       "    .dataframe thead th {\n",
       "        text-align: right;\n",
       "    }\n",
       "</style>\n",
       "<table border=\"1\" class=\"dataframe\">\n",
       "  <thead>\n",
       "    <tr style=\"text-align: right;\">\n",
       "      <th></th>\n",
       "      <th>report_number</th>\n",
       "      <th>role</th>\n",
       "      <th>name_brand</th>\n",
       "      <th>industry_code</th>\n",
       "      <th>industry_name</th>\n",
       "    </tr>\n",
       "  </thead>\n",
       "  <tbody>\n",
       "    <tr>\n",
       "      <th>0</th>\n",
       "      <td>202218</td>\n",
       "      <td>Suspect</td>\n",
       "      <td>Exemption 4</td>\n",
       "      <td>53</td>\n",
       "      <td>Cosmetics</td>\n",
       "    </tr>\n",
       "    <tr>\n",
       "      <th>1</th>\n",
       "      <td>2018-CFS-003029</td>\n",
       "      <td>Suspect</td>\n",
       "      <td>Exemption 4</td>\n",
       "      <td>53</td>\n",
       "      <td>Cosmetics</td>\n",
       "    </tr>\n",
       "    <tr>\n",
       "      <th>2</th>\n",
       "      <td>2019-CFS-008409</td>\n",
       "      <td>Suspect</td>\n",
       "      <td>Exemption 4</td>\n",
       "      <td>53</td>\n",
       "      <td>Cosmetics</td>\n",
       "    </tr>\n",
       "    <tr>\n",
       "      <th>3</th>\n",
       "      <td>204715</td>\n",
       "      <td>Suspect</td>\n",
       "      <td>Exemption 4</td>\n",
       "      <td>53</td>\n",
       "      <td>Cosmetics</td>\n",
       "    </tr>\n",
       "    <tr>\n",
       "      <th>4</th>\n",
       "      <td>214832</td>\n",
       "      <td>Suspect</td>\n",
       "      <td>Exemption 4</td>\n",
       "      <td>53</td>\n",
       "      <td>Cosmetics</td>\n",
       "    </tr>\n",
       "  </tbody>\n",
       "</table>\n",
       "</div>"
      ],
      "text/plain": [
       "     report_number     role   name_brand industry_code industry_name\n",
       "0           202218  Suspect  Exemption 4            53     Cosmetics\n",
       "1  2018-CFS-003029  Suspect  Exemption 4            53     Cosmetics\n",
       "2  2019-CFS-008409  Suspect  Exemption 4            53     Cosmetics\n",
       "3           204715  Suspect  Exemption 4            53     Cosmetics\n",
       "4           214832  Suspect  Exemption 4            53     Cosmetics"
      ]
     },
     "metadata": {},
     "output_type": "display_data"
    }
   ],
   "source": [
    "#Display first 5 records of dataframes\n",
    "display(ov_cancer_dfDict[\"report_df\"].head())\n",
    "display(ov_cancer_dfDict[\"outcome_df\"].head())\n",
    "display(ov_cancer_dfDict[\"product_df\"].head())\n"
   ]
  },
  {
   "cell_type": "code",
   "execution_count": 231,
   "metadata": {},
   "outputs": [],
   "source": [
    "food_event_report_df = ov_cancer_dfDict[\"report_df\"]\n",
    "\n",
    "#Convert the string date_created and date_started to datetime format\n",
    "food_event_report_df[\"date_created\"] = pd.to_datetime(food_event_report_df[\"date_created\"])\n",
    "food_event_report_df[\"date_started\"] = pd.to_datetime(food_event_report_df[\"date_started\"])\n",
    "\n",
    "#Get only the year part of created  date\n",
    "food_event_report_df['year_created'] = food_event_report_df['date_created'].dt.year\n",
    "\n",
    "#convert consumer_age from string to numeric\n",
    "food_event_report_dfYear[\"consumer_age\"]= pd.to_numeric(food_event_report_dfYear[\"consumer_age\"])"
   ]
  },
  {
   "cell_type": "code",
   "execution_count": 232,
   "metadata": {},
   "outputs": [],
   "source": [
    "#Get the dataframe ready for plot - \"Display of Events by Outcomes for Ovarian Cancer Reaction\"\n",
    "#merge year df with outcomes df \n",
    "inner_merge_reportno_df = pd.merge(food_event_report_dfYear,ov_cancer_dfDict[\"outcome_df\"], on=\"report_number\",how='left')\n"
   ]
  },
  {
   "cell_type": "code",
   "execution_count": 233,
   "metadata": {},
   "outputs": [
    {
     "data": {
      "image/png": "[encoded data removed]",
      "text/plain": [
       "<Figure size 1080x432 with 1 Axes>"
      ]
     },
     "metadata": {
      "needs_background": "light"
     },
     "output_type": "display_data"
    }
   ],
   "source": [
    "#plot - Display of Events by Outcomes for Ovarian Cancer Reaction\n",
    "fig,ax = plt.subplots()\n",
    "fig.set_size_inches([15,6])\n",
    "ax = sns.countplot(x =inner_merge_reportno_df.year_created,data = inner_merge_reportno_df,\n",
    "                   ax=ax,hue=inner_merge_reportno_df.outcome)\n",
    "ax.set_title(\"Display of Events by Outcomes for Ovarian Cancer Reaction\")\n",
    "ax.set_ylabel(\"Number of events\")\n",
    "ax.set_xlabel(\"Year\")\n",
    "ax.legend(loc='upper left')\n",
    "ax.grid(True)\n",
    "plt.savefig('OverianCancer_events_display.png',bbox_inches = 'tight')"
   ]
  },
  {
   "cell_type": "code",
   "execution_count": 198,
   "metadata": {},
   "outputs": [],
   "source": [
    "#Ovarian cancer by age plot. What products caused this reaction?\n",
    "# industry_name entries are blank in some reports. Replace it with text \"Data Unavailable\"\n",
    "ov_cancer_dfDict[\"product_df\"].loc[ov_cancer_dfDict[\"product_df\"].industry_name == \"\",'industry_name'] = \"Data Unavailable\"\n",
    "\n",
    "#merge with product df with \n",
    "merged_reportno_df = pd.merge(food_event_report_dfYear,ov_cancer_dfDict[\"product_df\"], on=\"report_number\",how='left')\n",
    "\n",
    "#Get only reports where age is reported in year(s)\n",
    "merged_reportno_df = merged_reportno_df[(merged_reportno_df[\"consumer_age_unit\"]==\"year(s)\")]\n"
   ]
  },
  {
   "cell_type": "code",
   "execution_count": 212,
   "metadata": {},
   "outputs": [
    {
     "data": {
      "image/png": "[encoded data removed]",
      "text/plain": [
       "<Figure size 864x432 with 1 Axes>"
      ]
     },
     "metadata": {
      "needs_background": "light"
     },
     "output_type": "display_data"
    }
   ],
   "source": [
    "fig,ax = plt.subplots()\n",
    "fig.set_size_inches([12,6])\n",
    "ax= sns.histplot(x='consumer_age',data=merged_reportno_df,\n",
    "                 hue='industry_name',multiple=\"dodge\",ax=ax)\n",
    "ax.set_title(\"Display of Events by consumer age and industry for Ovarian Cancer Reaction\")\n",
    "ax.set_ylabel(\"Number of events\")\n",
    "ax.set_xlabel(\"Consumer Age\")\n",
    "plt.savefig('OverianCancer_age_display.png',bbox_inches = 'tight')"
   ]
  },
  {
   "cell_type": "code",
   "execution_count": 91,
   "metadata": {},
   "outputs": [
    {
     "name": "stdout",
     "output_type": "stream",
     "text": [
      "Mean age for Ovarian Cancer: 55.788690476190474\n",
      "Median age for Ovarian Cancer: 55.0\n",
      "Variance:  210.19700604122252\n",
      "Standard Deviation: 14.498172506947988\n"
     ]
    }
   ],
   "source": [
    "print(\"Mean age for Ovarian Cancer:\",merged_reportno_df[\"consumer_age\"].mean())\n",
    "print(\"Median age for Ovarian Cancer:\",merged_reportno_df[\"consumer_age\"].median())\n",
    "print(\"Variance: \",np.var(merged_reportno_df[\"consumer_age\"],ddof=1))\n",
    "print(\"Standard Deviation:\", np.std(merged_reportno_df[\"consumer_age\"],ddof=1))"
   ]
  },
  {
   "cell_type": "code",
   "execution_count": 183,
   "metadata": {},
   "outputs": [],
   "source": [
    "def get_eventCountData_fromAPI(eventCountDataJSON):\n",
    "    reaction_count_list = []\n",
    "    #results key from the JSON data of the request contains the information about the food event.\n",
    "    if(('results' in eventCountDataJSON) and (bool(eventCountDataJSON['results']) == True)):\n",
    "        for cnt_record in eventCountDataJSON['results']:\n",
    "            reaction_count_list.append({\"term\": cnt_record[\"term\"].title(),\"count\":cnt_record[\"count\"]})\n",
    "\n",
    "    reaction_count_df = pd.DataFrame(reaction_count_list)\n",
    "    \n",
    "    return reaction_count_df\n"
   ]
  },
  {
   "cell_type": "markdown",
   "metadata": {},
   "source": [
    "## Top 5 reactions"
   ]
  },
  {
   "cell_type": "code",
   "execution_count": 216,
   "metadata": {},
   "outputs": [],
   "source": [
    "# Get the data for reactions count\n",
    "reaction_count_url = \"https://api.fda.gov/food/event.json?count=reactions.exact\"\n",
    "reaction_count_data = requests.get(reaction_count_url).json()\n",
    "\n",
    "reaction_count_df = get_eventCountData_fromAPI(reaction_count_data)\n"
   ]
  },
  {
   "cell_type": "code",
   "execution_count": 224,
   "metadata": {},
   "outputs": [
    {
     "data": {
      "text/html": [
       "<div>\n",
       "<style scoped>\n",
       "    .dataframe tbody tr th:only-of-type {\n",
       "        vertical-align: middle;\n",
       "    }\n",
       "\n",
       "    .dataframe tbody tr th {\n",
       "        vertical-align: top;\n",
       "    }\n",
       "\n",
       "    .dataframe thead th {\n",
       "        text-align: right;\n",
       "    }\n",
       "</style>\n",
       "<table border=\"1\" class=\"dataframe\">\n",
       "  <thead>\n",
       "    <tr style=\"text-align: right;\">\n",
       "      <th></th>\n",
       "      <th>reaction</th>\n",
       "      <th>count</th>\n",
       "    </tr>\n",
       "  </thead>\n",
       "  <tbody>\n",
       "    <tr>\n",
       "      <th>0</th>\n",
       "      <td>Diarrhoea</td>\n",
       "      <td>13933</td>\n",
       "    </tr>\n",
       "    <tr>\n",
       "      <th>1</th>\n",
       "      <td>Vomiting</td>\n",
       "      <td>11830</td>\n",
       "    </tr>\n",
       "    <tr>\n",
       "      <th>2</th>\n",
       "      <td>Ovarian Cancer</td>\n",
       "      <td>11719</td>\n",
       "    </tr>\n",
       "    <tr>\n",
       "      <th>3</th>\n",
       "      <td>Nausea</td>\n",
       "      <td>10012</td>\n",
       "    </tr>\n",
       "    <tr>\n",
       "      <th>4</th>\n",
       "      <td>Abdominal Pain</td>\n",
       "      <td>7845</td>\n",
       "    </tr>\n",
       "  </tbody>\n",
       "</table>\n",
       "</div>"
      ],
      "text/plain": [
       "         reaction  count\n",
       "0       Diarrhoea  13933\n",
       "1        Vomiting  11830\n",
       "2  Ovarian Cancer  11719\n",
       "3          Nausea  10012\n",
       "4  Abdominal Pain   7845"
      ]
     },
     "metadata": {},
     "output_type": "display_data"
    }
   ],
   "source": [
    "reaction_count_df.rename(columns = {'term':'reaction'}, inplace = True)\n",
    "display(reaction_count_df.head())"
   ]
  },
  {
   "cell_type": "code",
   "execution_count": 226,
   "metadata": {},
   "outputs": [
    {
     "data": {
      "image/png": "[encoded data removed]",
      "text/plain": [
       "<Figure size 576x576 with 1 Axes>"
      ]
     },
     "metadata": {},
     "output_type": "display_data"
    }
   ],
   "source": [
    "#plot pie chart to display top 5 reactions\n",
    "fig,ax = plt.subplots()\n",
    "fig.set_size_inches([8,8])\n",
    "\n",
    "reaction_count_df.head().plot(kind='pie',y=\"count\",ax=ax,\n",
    "                        startangle=90,shadow=False,labels=reaction_count_df.reaction,\n",
    "                        autopct='%1.1f%%',legend=False,fontsize=10)\n",
    "\n",
    "ax.set_ylabel(\"\")\n",
    "ax.set_title(\"Top 5 reactions as % from reported food events\",fontsize=10)\n",
    "plt.savefig('Top5_reactions.png')\n",
    "plt.show()\n"
   ]
  },
  {
   "cell_type": "markdown",
   "metadata": {},
   "source": [
    "## Jan 1,2004 - Jan 1, 2021 events Analysis(API limit is 1000 events)"
   ]
  },
  {
   "cell_type": "code",
   "execution_count": 3,
   "metadata": {},
   "outputs": [],
   "source": [
    "#Get another 1000 records for a date range as below\n",
    "#Get FDA food event data between Jan 01, 2004 and Jan 1, 2021. \n",
    "daterange_food_url = \"https://api.fda.gov/food/event.json?search=date_started:[20040101+TO+20210101]&limit=1000\"\n",
    "daterange_food_event_data = requests.get(daterange_food_url).json()\n",
    "\n",
    "daterange_dfDict = get_eventdata_fromAPI(daterange_food_event_data)\n"
   ]
  },
  {
   "cell_type": "code",
   "execution_count": 15,
   "metadata": {
    "scrolled": true
   },
   "outputs": [
    {
     "data": {
      "text/html": [
       "<div>\n",
       "<style scoped>\n",
       "    .dataframe tbody tr th:only-of-type {\n",
       "        vertical-align: middle;\n",
       "    }\n",
       "\n",
       "    .dataframe tbody tr th {\n",
       "        vertical-align: top;\n",
       "    }\n",
       "\n",
       "    .dataframe thead th {\n",
       "        text-align: right;\n",
       "    }\n",
       "</style>\n",
       "<table border=\"1\" class=\"dataframe\">\n",
       "  <thead>\n",
       "    <tr style=\"text-align: right;\">\n",
       "      <th></th>\n",
       "      <th>report_number</th>\n",
       "      <th>date_created</th>\n",
       "      <th>date_started</th>\n",
       "      <th>consumer_age</th>\n",
       "      <th>consumer_age_unit</th>\n",
       "      <th>consumer_gender</th>\n",
       "      <th>reaction</th>\n",
       "      <th>outcome</th>\n",
       "      <th>role</th>\n",
       "      <th>name_brand</th>\n",
       "      <th>industry_code</th>\n",
       "      <th>industry_name</th>\n",
       "    </tr>\n",
       "  </thead>\n",
       "  <tbody>\n",
       "    <tr>\n",
       "      <th>0</th>\n",
       "      <td>180350</td>\n",
       "      <td>20141028</td>\n",
       "      <td>20141025</td>\n",
       "      <td>21</td>\n",
       "      <td>year(s)</td>\n",
       "      <td>F</td>\n",
       "      <td>Dependence</td>\n",
       "      <td>Required Intervention</td>\n",
       "      <td>Suspect</td>\n",
       "      <td>Quest Bars</td>\n",
       "      <td>41</td>\n",
       "      <td>Dietary Conventional Foods/Meal Replacements</td>\n",
       "    </tr>\n",
       "    <tr>\n",
       "      <th>1</th>\n",
       "      <td>190453</td>\n",
       "      <td>20151013</td>\n",
       "      <td>20150803</td>\n",
       "      <td>36</td>\n",
       "      <td>year(s)</td>\n",
       "      <td>F</td>\n",
       "      <td>Abdominal Pain Upper</td>\n",
       "      <td>Other Outcome</td>\n",
       "      <td>Concomitant</td>\n",
       "      <td>Vitamin D</td>\n",
       "      <td>54</td>\n",
       "      <td>Vit/Min/Prot/Unconv Diet(Human/Animal)</td>\n",
       "    </tr>\n",
       "    <tr>\n",
       "      <th>2</th>\n",
       "      <td>190453</td>\n",
       "      <td>20151013</td>\n",
       "      <td>20150803</td>\n",
       "      <td>36</td>\n",
       "      <td>year(s)</td>\n",
       "      <td>F</td>\n",
       "      <td>Abdominal Pain Upper</td>\n",
       "      <td>Other Outcome</td>\n",
       "      <td>Suspect</td>\n",
       "      <td>Gluten Free Honey Nut Cheerios</td>\n",
       "      <td>5</td>\n",
       "      <td>Cereal Prep/Breakfast Food</td>\n",
       "    </tr>\n",
       "    <tr>\n",
       "      <th>3</th>\n",
       "      <td>191972</td>\n",
       "      <td>20151210</td>\n",
       "      <td>20151203</td>\n",
       "      <td>32</td>\n",
       "      <td>year(s)</td>\n",
       "      <td>F</td>\n",
       "      <td>Eye Irritation</td>\n",
       "      <td>Other Outcome</td>\n",
       "      <td>Suspect</td>\n",
       "      <td>Neutrogena Naturals Fresh Cleansing Makeup Rem...</td>\n",
       "      <td>53</td>\n",
       "      <td>Cosmetics</td>\n",
       "    </tr>\n",
       "    <tr>\n",
       "      <th>4</th>\n",
       "      <td>191972</td>\n",
       "      <td>20151210</td>\n",
       "      <td>20151203</td>\n",
       "      <td>32</td>\n",
       "      <td>year(s)</td>\n",
       "      <td>F</td>\n",
       "      <td>Lacrimation Increased</td>\n",
       "      <td>Other Outcome</td>\n",
       "      <td>Suspect</td>\n",
       "      <td>Neutrogena Naturals Fresh Cleansing Makeup Rem...</td>\n",
       "      <td>53</td>\n",
       "      <td>Cosmetics</td>\n",
       "    </tr>\n",
       "  </tbody>\n",
       "</table>\n",
       "</div>"
      ],
      "text/plain": [
       "  report_number date_created date_started consumer_age consumer_age_unit  \\\n",
       "0        180350     20141028     20141025           21           year(s)   \n",
       "1        190453     20151013     20150803           36           year(s)   \n",
       "2        190453     20151013     20150803           36           year(s)   \n",
       "3        191972     20151210     20151203           32           year(s)   \n",
       "4        191972     20151210     20151203           32           year(s)   \n",
       "\n",
       "  consumer_gender               reaction                outcome         role  \\\n",
       "0               F             Dependence  Required Intervention      Suspect   \n",
       "1               F   Abdominal Pain Upper          Other Outcome  Concomitant   \n",
       "2               F   Abdominal Pain Upper          Other Outcome      Suspect   \n",
       "3               F         Eye Irritation          Other Outcome      Suspect   \n",
       "4               F  Lacrimation Increased          Other Outcome      Suspect   \n",
       "\n",
       "                                          name_brand industry_code  \\\n",
       "0                                         Quest Bars            41   \n",
       "1                                          Vitamin D            54   \n",
       "2                     Gluten Free Honey Nut Cheerios             5   \n",
       "3  Neutrogena Naturals Fresh Cleansing Makeup Rem...            53   \n",
       "4  Neutrogena Naturals Fresh Cleansing Makeup Rem...            53   \n",
       "\n",
       "                                  industry_name  \n",
       "0  Dietary Conventional Foods/Meal Replacements  \n",
       "1        Vit/Min/Prot/Unconv Diet(Human/Animal)  \n",
       "2                    Cereal Prep/Breakfast Food  \n",
       "3                                     Cosmetics  \n",
       "4                                     Cosmetics  "
      ]
     },
     "execution_count": 15,
     "metadata": {},
     "output_type": "execute_result"
    }
   ],
   "source": [
    "merged_df = pd.merge(daterange_dfDict[\"report_df\"],daterange_dfDict[\"reaction_df\"],on=\"report_number\")\n",
    "merged_df = pd.merge(merged_df,daterange_dfDict[\"outcome_df\"],on=\"report_number\",how='left')\n",
    "merged_df = pd.merge(merged_df,daterange_dfDict[\"product_df\"],on=\"report_number\",how='left')\n",
    "merged_df.head()\n"
   ]
  },
  {
   "cell_type": "markdown",
   "metadata": {},
   "source": [
    "#### Industry-Reaction count"
   ]
  },
  {
   "cell_type": "code",
   "execution_count": 158,
   "metadata": {},
   "outputs": [
    {
     "data": {
      "text/html": [
       "<div>\n",
       "<style scoped>\n",
       "    .dataframe tbody tr th:only-of-type {\n",
       "        vertical-align: middle;\n",
       "    }\n",
       "\n",
       "    .dataframe tbody tr th {\n",
       "        vertical-align: top;\n",
       "    }\n",
       "\n",
       "    .dataframe thead th {\n",
       "        text-align: right;\n",
       "    }\n",
       "</style>\n",
       "<table border=\"1\" class=\"dataframe\">\n",
       "  <thead>\n",
       "    <tr style=\"text-align: right;\">\n",
       "      <th></th>\n",
       "      <th></th>\n",
       "      <th>Count</th>\n",
       "    </tr>\n",
       "    <tr>\n",
       "      <th>industry_name</th>\n",
       "      <th>reaction</th>\n",
       "      <th></th>\n",
       "    </tr>\n",
       "  </thead>\n",
       "  <tbody>\n",
       "    <tr>\n",
       "      <th rowspan=\"4\" valign=\"top\">Vit/Min/Prot/Unconv Diet(Human/Animal)</th>\n",
       "      <th>Dyspnoea</th>\n",
       "      <td>148</td>\n",
       "    </tr>\n",
       "    <tr>\n",
       "      <th>Nausea</th>\n",
       "      <td>147</td>\n",
       "    </tr>\n",
       "    <tr>\n",
       "      <th>Headache</th>\n",
       "      <td>118</td>\n",
       "    </tr>\n",
       "    <tr>\n",
       "      <th>Dizziness</th>\n",
       "      <td>110</td>\n",
       "    </tr>\n",
       "    <tr>\n",
       "      <th>Cosmetics</th>\n",
       "      <th>Ovarian Cancer</th>\n",
       "      <td>105</td>\n",
       "    </tr>\n",
       "    <tr>\n",
       "      <th>Vit/Min/Prot/Unconv Diet(Human/Animal)</th>\n",
       "      <th>Vomiting</th>\n",
       "      <td>95</td>\n",
       "    </tr>\n",
       "    <tr>\n",
       "      <th>Cosmetics</th>\n",
       "      <th>Alopecia</th>\n",
       "      <td>82</td>\n",
       "    </tr>\n",
       "    <tr>\n",
       "      <th>Vit/Min/Prot/Unconv Diet(Human/Animal)</th>\n",
       "      <th>Malaise</th>\n",
       "      <td>82</td>\n",
       "    </tr>\n",
       "  </tbody>\n",
       "</table>\n",
       "</div>"
      ],
      "text/plain": [
       "                                                       Count\n",
       "industry_name                          reaction             \n",
       "Vit/Min/Prot/Unconv Diet(Human/Animal) Dyspnoea          148\n",
       "                                       Nausea            147\n",
       "                                       Headache          118\n",
       "                                       Dizziness         110\n",
       "Cosmetics                              Ovarian Cancer    105\n",
       "Vit/Min/Prot/Unconv Diet(Human/Animal) Vomiting           95\n",
       "Cosmetics                              Alopecia           82\n",
       "Vit/Min/Prot/Unconv Diet(Human/Animal) Malaise            82"
      ]
     },
     "metadata": {},
     "output_type": "display_data"
    }
   ],
   "source": [
    "merged_df[\"consumer_age\"] = pd.to_numeric(merged_df[\"consumer_age\"])\n",
    "plot_df = pd.DataFrame(merged_df.groupby([\"industry_name\",\"reaction\"])[\"report_number\"].agg(\"count\").sort_values(ascending=False))\n",
    "plot_df.columns = [\"Count\"]\n",
    "display(plot_df.head(8))"
   ]
  },
  {
   "cell_type": "code",
   "execution_count": 262,
   "metadata": {},
   "outputs": [
    {
     "data": {
      "image/png": "[encoded data removed]",
      "text/plain": [
       "<Figure size 1080x432 with 1 Axes>"
      ]
     },
     "metadata": {
      "needs_background": "light"
     },
     "output_type": "display_data"
    }
   ],
   "source": [
    "# Plot industry report counts from Jan 01, 2004 and Jan 1, 2021\n",
    "fig,ax = plt.subplots()\n",
    "fig.set_size_inches([15,6])\n",
    "merged_df.groupby(['industry_name','reaction']).count()['report_number'].sort_values(ascending=False).head(10).plot.bar(ax=ax)\n",
    "ax.set_ylabel(\"Count\")\n",
    "ax.set_xlabel(\"(Industry Name,Reaction)\")\n",
    "ax.set_title(\"Top 10 Industry-Reaction count for events from Jan 01, 2004 to Jan 1, 2021\",fontsize=10)\n",
    "#ax.tick_params(axis='x', rotation=90)\n",
    "plt.savefig('IndustryReaction_count.png',bbox_inches = 'tight')"
   ]
  },
  {
   "cell_type": "markdown",
   "metadata": {},
   "source": [
    "#### Consumer Age- gender count, mean and median"
   ]
  },
  {
   "cell_type": "code",
   "execution_count": 249,
   "metadata": {},
   "outputs": [
    {
     "name": "stdout",
     "output_type": "stream",
     "text": [
      "Mean consumer age: 46.65351972041937 yrs\n",
      "Median consumer age: 48.0 yrs\n",
      "Standard Deviation: 20.36941875416365\n"
     ]
    },
    {
     "data": {
      "image/png": "[encoded data removed]",
      "text/plain": [
       "<Figure size 864x576 with 1 Axes>"
      ]
     },
     "metadata": {
      "needs_background": "light"
     },
     "output_type": "display_data"
    }
   ],
   "source": [
    "merged_df.loc[merged_df.consumer_gender == \"\",'consumer_gender'] = \"data missing\"\n",
    "\n",
    "\n",
    "fig,ax = plt.subplots()\n",
    "fig.set_size_inches([12,8])\n",
    "ax= sns.histplot(x=\"consumer_age\",data=merged_df,ax=ax,hue=\"consumer_gender\",multiple=\"stack\",kde=True)\n",
    "\n",
    "ax.set_xlabel(\"Consumer Age\")\n",
    "ax.set_ylabel(\"Count\")\n",
    "ax.set_title(\"Consumer Age - gender count for events from Jan 01, 2004 to Jan 1, 2021\",fontsize=10)\n",
    "plt.savefig('Age_gender_count.png',bbox_inches = 'tight')\n",
    "\n",
    "print(\"Mean consumer age:\", merged_df[\"consumer_age\"].mean(), \"yrs\")\n",
    "print(\"Median consumer age:\",merged_df[\"consumer_age\"].median(), \"yrs\")\n",
    "print(\"Standard Deviation:\", np.std(merged_df[\"consumer_age\"],ddof=1))\n"
   ]
  },
  {
   "cell_type": "markdown",
   "metadata": {},
   "source": [
    "## Outcome Analysis"
   ]
  },
  {
   "cell_type": "code",
   "execution_count": 63,
   "metadata": {},
   "outputs": [],
   "source": [
    "\n",
    "death_outcome_url = \"https://api.fda.gov/food/event.json?search=outcomes:'death'\"\n",
    "death_outcome_data = requests.get(death_outcome_url).json()\n",
    "\n",
    "death_outcome_dfDict = get_eventdata_fromAPI(death_outcome_data)\n"
   ]
  },
  {
   "cell_type": "code",
   "execution_count": 82,
   "metadata": {},
   "outputs": [
    {
     "data": {
      "text/html": [
       "<div>\n",
       "<style scoped>\n",
       "    .dataframe tbody tr th:only-of-type {\n",
       "        vertical-align: middle;\n",
       "    }\n",
       "\n",
       "    .dataframe tbody tr th {\n",
       "        vertical-align: top;\n",
       "    }\n",
       "\n",
       "    .dataframe thead th {\n",
       "        text-align: right;\n",
       "    }\n",
       "</style>\n",
       "<table border=\"1\" class=\"dataframe\">\n",
       "  <thead>\n",
       "    <tr style=\"text-align: right;\">\n",
       "      <th></th>\n",
       "      <th>report_number</th>\n",
       "      <th>date_created</th>\n",
       "      <th>date_started</th>\n",
       "      <th>consumer_age</th>\n",
       "      <th>consumer_age_unit</th>\n",
       "      <th>consumer_gender</th>\n",
       "      <th>role</th>\n",
       "      <th>name_brand</th>\n",
       "      <th>industry_code</th>\n",
       "      <th>industry_name</th>\n",
       "    </tr>\n",
       "  </thead>\n",
       "  <tbody>\n",
       "    <tr>\n",
       "      <th>0</th>\n",
       "      <td>2018-CFS-015017</td>\n",
       "      <td>20181226</td>\n",
       "      <td>20140310</td>\n",
       "      <td>81</td>\n",
       "      <td>year(s)</td>\n",
       "      <td>F</td>\n",
       "      <td>Suspect</td>\n",
       "      <td>Exemption 4</td>\n",
       "      <td>53</td>\n",
       "      <td>Cosmetics</td>\n",
       "    </tr>\n",
       "  </tbody>\n",
       "</table>\n",
       "</div>"
      ],
      "text/plain": [
       "     report_number date_created date_started consumer_age consumer_age_unit  \\\n",
       "0  2018-CFS-015017     20181226     20140310           81           year(s)   \n",
       "\n",
       "  consumer_gender     role   name_brand industry_code industry_name  \n",
       "0               F  Suspect  Exemption 4            53     Cosmetics  "
      ]
     },
     "metadata": {},
     "output_type": "display_data"
    },
    {
     "data": {
      "text/html": [
       "<div>\n",
       "<style scoped>\n",
       "    .dataframe tbody tr th:only-of-type {\n",
       "        vertical-align: middle;\n",
       "    }\n",
       "\n",
       "    .dataframe tbody tr th {\n",
       "        vertical-align: top;\n",
       "    }\n",
       "\n",
       "    .dataframe thead th {\n",
       "        text-align: right;\n",
       "    }\n",
       "</style>\n",
       "<table border=\"1\" class=\"dataframe\">\n",
       "  <thead>\n",
       "    <tr style=\"text-align: right;\">\n",
       "      <th></th>\n",
       "      <th>report_number</th>\n",
       "      <th>reaction</th>\n",
       "    </tr>\n",
       "  </thead>\n",
       "  <tbody>\n",
       "    <tr>\n",
       "      <th>0</th>\n",
       "      <td>2018-CFS-015017</td>\n",
       "      <td>Injury</td>\n",
       "    </tr>\n",
       "    <tr>\n",
       "      <th>1</th>\n",
       "      <td>2018-CFS-015017</td>\n",
       "      <td>Death</td>\n",
       "    </tr>\n",
       "  </tbody>\n",
       "</table>\n",
       "</div>"
      ],
      "text/plain": [
       "     report_number reaction\n",
       "0  2018-CFS-015017   Injury\n",
       "1  2018-CFS-015017    Death"
      ]
     },
     "metadata": {},
     "output_type": "display_data"
    }
   ],
   "source": [
    "death_merged_df = pd.merge(death_outcome_dfDict[\"report_df\"],death_outcome_dfDict[\"product_df\"],on=\"report_number\",how='left')\n",
    "display(death_merged_df.head())\n",
    "\n",
    "#What was the reaction for that death event report?\n",
    "display(death_outcome_dfDict[\"reaction_df\"])"
   ]
  },
  {
   "cell_type": "markdown",
   "metadata": {},
   "source": [
    "## Anaphylactic reaction - outcome count"
   ]
  },
  {
   "cell_type": "code",
   "execution_count": 222,
   "metadata": {},
   "outputs": [],
   "source": [
    "#Get outcome count for anaphylactic_reaction\n",
    "anaphylactic_reaction_url = \"https://api.fda.gov/food/event.json?search=reaction:'anaphylactic+reaction'&count=outcomes.exact\"\n",
    "\n",
    "anaphylactic_reaction_data = requests.get(anaphylactic_reaction_url).json()\n",
    "\n",
    "anaphylactic_reaction_count_df = get_eventCountData_fromAPI(anaphylactic_reaction_data)\n"
   ]
  },
  {
   "cell_type": "code",
   "execution_count": 223,
   "metadata": {},
   "outputs": [
    {
     "data": {
      "text/html": [
       "<div>\n",
       "<style scoped>\n",
       "    .dataframe tbody tr th:only-of-type {\n",
       "        vertical-align: middle;\n",
       "    }\n",
       "\n",
       "    .dataframe tbody tr th {\n",
       "        vertical-align: top;\n",
       "    }\n",
       "\n",
       "    .dataframe thead th {\n",
       "        text-align: right;\n",
       "    }\n",
       "</style>\n",
       "<table border=\"1\" class=\"dataframe\">\n",
       "  <thead>\n",
       "    <tr style=\"text-align: right;\">\n",
       "      <th></th>\n",
       "      <th>outcome</th>\n",
       "      <th>count</th>\n",
       "    </tr>\n",
       "  </thead>\n",
       "  <tbody>\n",
       "    <tr>\n",
       "      <th>0</th>\n",
       "      <td>Patient Visited Er</td>\n",
       "      <td>369</td>\n",
       "    </tr>\n",
       "    <tr>\n",
       "      <th>1</th>\n",
       "      <td>Medically Important</td>\n",
       "      <td>318</td>\n",
       "    </tr>\n",
       "    <tr>\n",
       "      <th>2</th>\n",
       "      <td>Life Threatening</td>\n",
       "      <td>286</td>\n",
       "    </tr>\n",
       "    <tr>\n",
       "      <th>3</th>\n",
       "      <td>Hospitalization</td>\n",
       "      <td>205</td>\n",
       "    </tr>\n",
       "    <tr>\n",
       "      <th>4</th>\n",
       "      <td>Patient Visited Healthcare Provider</td>\n",
       "      <td>194</td>\n",
       "    </tr>\n",
       "    <tr>\n",
       "      <th>5</th>\n",
       "      <td>Other Outcome</td>\n",
       "      <td>122</td>\n",
       "    </tr>\n",
       "    <tr>\n",
       "      <th>6</th>\n",
       "      <td>Required Intervention</td>\n",
       "      <td>97</td>\n",
       "    </tr>\n",
       "    <tr>\n",
       "      <th>7</th>\n",
       "      <td>Other Seriousness</td>\n",
       "      <td>64</td>\n",
       "    </tr>\n",
       "    <tr>\n",
       "      <th>8</th>\n",
       "      <td>Disability</td>\n",
       "      <td>36</td>\n",
       "    </tr>\n",
       "    <tr>\n",
       "      <th>9</th>\n",
       "      <td>Death</td>\n",
       "      <td>4</td>\n",
       "    </tr>\n",
       "  </tbody>\n",
       "</table>\n",
       "</div>"
      ],
      "text/plain": [
       "                               outcome  count\n",
       "0                   Patient Visited Er    369\n",
       "1                  Medically Important    318\n",
       "2                     Life Threatening    286\n",
       "3                      Hospitalization    205\n",
       "4  Patient Visited Healthcare Provider    194\n",
       "5                        Other Outcome    122\n",
       "6                Required Intervention     97\n",
       "7                    Other Seriousness     64\n",
       "8                           Disability     36\n",
       "9                                Death      4"
      ]
     },
     "metadata": {},
     "output_type": "display_data"
    },
    {
     "data": {
      "image/png": "[encoded data removed]",
      "text/plain": [
       "<Figure size 1080x432 with 1 Axes>"
      ]
     },
     "metadata": {
      "needs_background": "light"
     },
     "output_type": "display_data"
    }
   ],
   "source": [
    "\n",
    "anaphylactic_reaction_count_df.rename(columns = {'term':'outcome'}, inplace = True)\n",
    "display(anaphylactic_reaction_count_df)\n",
    "#PLOT anaphylactic_reaction_data and its outcome count\n",
    "fig,ax = plt.subplots()\n",
    "fig.set_size_inches([15,6])\n",
    "ax = sns.barplot(x=\"count\",y=\"outcome\",ax=ax,data=anaphylactic_reaction_count_df)\n",
    "ax.set_xlabel(\"Count\")\n",
    "ax.set_ylabel(\"Outcome\")\n",
    "ax.set_title(\"Outcome count for Anaphylactic Reaction\",fontsize=10)\n",
    "plt.savefig('anaphylactic_reaction_outcome_count.png',bbox_inches = 'tight')"
   ]
  },
  {
   "cell_type": "code",
   "execution_count": null,
   "metadata": {},
   "outputs": [],
   "source": []
  }
 ],
 "metadata": {
  "kernelspec": {
   "display_name": "Python 3",
   "language": "python",
   "name": "python3"
  },
  "language_info": {
   "codemirror_mode": {
    "name": "ipython",
    "version": 3
   },
   "file_extension": ".py",
   "mimetype": "text/x-python",
   "name": "python",
   "nbconvert_exporter": "python",
   "pygments_lexer": "ipython3",
   "version": "3.8.5"
  }
 },
 "nbformat": 4,
 "nbformat_minor": 4
}
